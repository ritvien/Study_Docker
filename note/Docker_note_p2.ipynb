{
 "cells": [
  {
   "cell_type": "markdown",
   "id": "ffc66b1f-5910-4842-a6c0-4725df24b2ff",
   "metadata": {},
   "source": [
    "*This notebook is about **Docker Image, Dockerfile, Docker Network, Docker Volume***"
   ]
  },
  {
   "cell_type": "markdown",
   "id": "ba8eb21a-3f71-4fbb-88f4-6072e5efbf5c",
   "metadata": {},
   "source": [
    "# 4. Docker Image"
   ]
  },
  {
   "cell_type": "markdown",
   "id": "56463383-df02-443d-8e3d-4e3ce61264cd",
   "metadata": {},
   "source": [
    "* Key concepts:\n",
    "  * **Layers**: Docker Image được tạo từ nhiều lớp (layers), mỗi lớp ghi lại các thay đổi trên filesystem (thêm file, cài package,..)\n",
    "  * **Base Image**: nền tảng ban đầu của image, thường là một hđh tối giản (`ubuntu`, `alpine`,..).\n",
    "  * **Parent Image**: là image dùng để xây dựng image mới, có thể base image là một image tùy chỉnh khác\n",
    "  * **Image Tags**: Định danh và versioning cho image (vd: node:18, mysql:8.0)\n",
    "  * **Image ID**: mã hash duy nhất để nhận diện image trong hệ thống Docker"
   ]
  },
  {
   "cell_type": "markdown",
   "id": "d30fa4b8-3877-4f88-9cb2-5796fbf94a94",
   "metadata": {},
   "source": [
    "## 4.1 Working with Docker Images"
   ]
  },
  {
   "cell_type": "markdown",
   "id": "2fba022d-8e16-4d23-91b1-a85defcd3774",
   "metadata": {},
   "source": [
    "* Listing Images"
   ]
  },
  {
   "cell_type": "markdown",
   "id": "6f82095f-c4ce-4752-8431-fb7fb7e6bf75",
   "metadata": {},
   "source": [
    "> `docker images`  \n",
    "> `docker images ls` (more verbose command)"
   ]
  },
  {
   "cell_type": "markdown",
   "id": "2bbf6f33-1175-4e73-8da2-bee64a7bd2a8",
   "metadata": {},
   "source": [
    "* **Pulling** images from Docker Hub"
   ]
  },
  {
   "cell_type": "markdown",
   "id": "ab570173-9be1-4117-a741-5cbe6fe943bf",
   "metadata": {},
   "source": [
    "> `docker pull <image_name>:<tag>`"
   ]
  },
  {
   "cell_type": "markdown",
   "id": "0b9da5d5-9069-4153-87e1-d12729c8bbf3",
   "metadata": {},
   "source": [
    "if no tag is specified, pull **latest**"
   ]
  },
  {
   "cell_type": "markdown",
   "id": "26a0812e-4015-4382-b817-c5db9789dbc4",
   "metadata": {},
   "source": [
    "* Running Containers from Image"
   ]
  },
  {
   "cell_type": "markdown",
   "id": "d40ec34d-c44b-43b8-856a-740f6daf6fbb",
   "metadata": {},
   "source": [
    "> `docker run <image_name>:<tag>`"
   ]
  },
  {
   "cell_type": "markdown",
   "id": "838dc342-79f5-4937-85fd-1aa459747315",
   "metadata": {},
   "source": [
    "* Image Information"
   ]
  },
  {
   "cell_type": "markdown",
   "id": "4870f1e4-dfa0-4bca-8706-35338cff59f8",
   "metadata": {},
   "source": [
    "> `docker inspect <image_name>:<tag>`"
   ]
  },
  {
   "cell_type": "markdown",
   "id": "1c566b37-73ec-49e5-8977-4b629da6d063",
   "metadata": {},
   "source": [
    "* Removing Images"
   ]
  },
  {
   "cell_type": "markdown",
   "id": "c58b27b2-9322-42a7-8a19-832727691a27",
   "metadata": {},
   "source": [
    "> `docker rmi <image_name>:<tag>`"
   ]
  },
  {
   "cell_type": "markdown",
   "id": "f589c52b-9d29-407d-8e65-5ae4b19d1d39",
   "metadata": {},
   "source": [
    "> `docker image rm <image_name>:<tag>`"
   ]
  },
  {
   "cell_type": "markdown",
   "id": "ed17b5b0-7894-42de-b8f9-85ce8b18f7c7",
   "metadata": {},
   "source": [
    "> *# Remove all unused images*  \n",
    "> `docker image prune`"
   ]
  },
  {
   "cell_type": "markdown",
   "id": "4d74c165-d884-440f-bf95-d1183957f65d",
   "metadata": {},
   "source": [
    "### Building Custom Image"
   ]
  },
  {
   "cell_type": "markdown",
   "id": "d1b8859b-b3ee-4e0b-9983-ff2cba4f80c3",
   "metadata": {},
   "source": [
    "* Using Dockerfile"
   ]
  },
  {
   "cell_type": "markdown",
   "id": "c67d14e1-dfc9-4b47-bc77-007db7d8ee3a",
   "metadata": {},
   "source": [
    "1️⃣ Create a file named **Dockerfile** with no extension"
   ]
  },
  {
   "cell_type": "markdown",
   "id": "62aeb66a-0c85-45f7-9b98-3ddc2b766d78",
   "metadata": {},
   "source": [
    "2️⃣ Define the instructions to build image  \n",
    "Ex:  \n",
    "> **FROM** ubuntu:20.04  \n",
    "> **RUN** apt-get update && apt-get install -y nginx  \n",
    "> **COPY** ./my-nginx.conf /etc/nginx/nginx.conf  \n",
    "> **EXPOSE** 80  \n",
    "> **CMD** [\"nginx\", \"-g\", \"daemon off;\"]  \n"
   ]
  },
  {
   "cell_type": "markdown",
   "id": "6469d260-f6a6-4904-b20c-d2474a3b12b7",
   "metadata": {},
   "source": [
    "3️⃣ Build image  \n",
    "> `docker build -t my-nginx:v1`"
   ]
  },
  {
   "cell_type": "markdown",
   "id": "02d96dc5-ac47-49f2-94b2-6ded085f2c76",
   "metadata": {},
   "source": [
    "* Building from a **Running Container**"
   ]
  },
  {
   "cell_type": "markdown",
   "id": "e34f323a-9bd0-4911-8d39-012c3c97e5ed",
   "metadata": {},
   "source": [
    "1️⃣ Make changes to a running container"
   ]
  },
  {
   "cell_type": "markdown",
   "id": "d4b4bd96-91ba-4f51-b300-fae9c35b01c1",
   "metadata": {},
   "source": [
    "2️⃣ Create a new image from the container:  \n",
    "> `docker commit <container_id> my-new-image:tag`"
   ]
  },
  {
   "cell_type": "markdown",
   "id": "632c5f88-95e0-4fc8-9789-a13b9ca2bce0",
   "metadata": {},
   "source": [
    "### Image tagging"
   ]
  },
  {
   "cell_type": "markdown",
   "id": "ae4f1f47-77ba-4359-8b83-5c607ce20659",
   "metadata": {},
   "source": [
    "* Tag an existing image\n",
    "> `docker tag <source_image>:<tag> <target_image>:<tag>`"
   ]
  },
  {
   "cell_type": "markdown",
   "id": "5de09985-f81b-43a4-8c5e-8841f48523ea",
   "metadata": {},
   "source": [
    "Ex:  \n",
    "> `docker tag my-nginx:v1 my-dockerhub-username/my-nginx:v1`"
   ]
  },
  {
   "cell_type": "markdown",
   "id": "7ae48d90-aa3b-4119-a301-0e6cfabe4900",
   "metadata": {},
   "source": [
    "### Pushing Images to Docker Hub"
   ]
  },
  {
   "cell_type": "markdown",
   "id": "df953991-73ae-4da3-bc76-2055bd3a2a66",
   "metadata": {},
   "source": [
    "* Log in to Docker Hub:\n",
    "> `docker login`"
   ]
  },
  {
   "cell_type": "markdown",
   "id": "995cc848-7fd9-4863-9030-24445900b6ed",
   "metadata": {},
   "source": [
    "* Push:\n",
    "> `docker push my-dockerhub-username/my-nginx:v1`"
   ]
  },
  {
   "cell_type": "markdown",
   "id": "2bd6c4c8-d6f3-42ca-88c9-80da7445def3",
   "metadata": {},
   "source": [
    "### Image Layers and Caching"
   ]
  },
  {
   "cell_type": "markdown",
   "id": "be78a42c-cfde-4392-997b-d712a33bdb38",
   "metadata": {},
   "source": [
    "🚀 **Layers is crucial for optimizing image builds**"
   ]
  },
  {
   "cell_type": "markdown",
   "id": "ca28cc99-6445-4212-bf9b-62c5f0cc6e7a",
   "metadata": {},
   "source": [
    "1️⃣ Each instruction in a Dockerfile creates a new layer."
   ]
  },
  {
   "cell_type": "markdown",
   "id": "5ed42c95-5c46-4adb-b604-2060c472d9f0",
   "metadata": {},
   "source": [
    "2️⃣ Layers are **cached and reused** in subsequent build"
   ]
  },
  {
   "cell_type": "markdown",
   "id": "6618c93f-665e-49fa-a8e3-26157a2ee258",
   "metadata": {},
   "source": [
    "3️⃣ Ordering instructions from **least to most frequently** changing can speed up builds"
   ]
  },
  {
   "cell_type": "markdown",
   "id": "0768fffe-b9ab-4ad1-aeb1-1bc2abab85a1",
   "metadata": {},
   "source": [
    "Example of leveraging caching:"
   ]
  },
  {
   "cell_type": "markdown",
   "id": "80320a5a-6ac6-4d5d-8084-67ab4aad54a9",
   "metadata": {},
   "source": [
    " ❗ Không nên để thế này:  "
   ]
  },
  {
   "cell_type": "markdown",
   "id": "fdef7fa8-96af-4ce3-8c44-ecfda3b4076c",
   "metadata": {},
   "source": [
    "> **FROM** ubuntu:20.04  \n",
    "> **COPY** ./static-files /var/www/html  \n",
    "> **COPY** ./config-files /etc/nginx  \n",
    "> **RUN** apt-get update && apt-get install -y nginx  \n"
   ]
  },
  {
   "cell_type": "markdown",
   "id": "d3d52b77-7e08-47ec-8ef6-561bea3e6a4c",
   "metadata": {},
   "source": [
    "📌 Nếu sửa mã nguồn, Docker build lại tất cả, phải chạy lại apt-get update và apt-get install."
   ]
  },
  {
   "cell_type": "markdown",
   "id": "97773f7e-0b58-4deb-a349-f73df4bb6091",
   "metadata": {},
   "source": [
    "> **FROM** ubuntu:20.04  \n",
    "> **RUN** apt-get update && apt-get install -y nginx  \n",
    "> **COPY** ./static-files /var/www/html  \n",
    "> **COPY** ./config-files /etc/nginx"
   ]
  },
  {
   "cell_type": "markdown",
   "id": "40dbe7ae-5659-4c0d-b6f1-dec507e560cf",
   "metadata": {},
   "source": [
    "📌 Nếu chỉ sửa code, Docker chỉ build lại phần cuối"
   ]
  },
  {
   "cell_type": "markdown",
   "id": "07b87f12-f0ea-42eb-945b-f13f1b2913c7",
   "metadata": {},
   "source": [
    "### Multi-stage Builds"
   ]
  },
  {
   "cell_type": "markdown",
   "id": "2c255201-8030-4304-a102-e2a3174d84e1",
   "metadata": {},
   "source": [
    "* Giúp **giảm kích thước image** bằng cách sử dụng nhiều giai đoạn (**stages**) để build\n",
    "* Chỉ copy những file **cần thiết** từ stage trước vào stage cuối, bỏ qua phần ko quan trọng (thư viện build, file tạm, ...)\n",
    "* **Tối ưu hiệu suất** và **Bảo mật**"
   ]
  },
  {
   "cell_type": "markdown",
   "id": "c746d1c1-52db-4494-aa20-6faf170ac129",
   "metadata": {},
   "source": [
    "Ex: Không dùng Multi-Stage (image lớn, không tối ưu)    \n",
    "> **FROM** golang:1.20   # Base image với Go  \n",
    "> **WORKDIR** /app  \n",
    "> **COPY** . .  \n",
    "> **RUN** go build -o myapp   # Biên dịch ứng dụng  \n",
    "> **CMD** [\"./myapp\"]"
   ]
  },
  {
   "cell_type": "markdown",
   "id": "9e27fb35-df6f-4a86-b237-583d4485e7d9",
   "metadata": {},
   "source": [
    "*build: Multi_stage\\yolo-app_no_multi_stage*"
   ]
  },
  {
   "attachments": {
    "aeb41572-6626-4555-a229-50b8badc4ed0.png": {
     "image/png": "[encoded data removed]"
    }
   },
   "cell_type": "markdown",
   "id": "dc41e9c1-2dd3-448d-a4b3-c2cb95ea6771",
   "metadata": {},
   "source": [
    "![image.png](attachment:aeb41572-6626-4555-a229-50b8badc4ed0.png)"
   ]
  },
  {
   "cell_type": "markdown",
   "id": "06a9774d-81c7-4a41-b25d-9777ac2e9ab2",
   "metadata": {},
   "source": [
    "* Mỗi lần build phải pip install rất lâu -> > 600s"
   ]
  },
  {
   "attachments": {
    "50e4d709-ece8-4056-a2b4-7eeb5c14a469.png": {
     "image/png": "[encoded data removed]"
    }
   },
   "cell_type": "markdown",
   "id": "82a4da85-5d43-4332-b941-e176b23b464c",
   "metadata": {},
   "source": [
    "* Total time:  ![image.png](attachment:50e4d709-ece8-4056-a2b4-7eeb5c14a469.png)"
   ]
  },
  {
   "attachments": {
    "50ac7422-85cc-45ef-938c-0feb4d315b1c.png": {
     "image/png": "[encoded data removed]"
    }
   },
   "cell_type": "markdown",
   "id": "1d427bda-660e-4d91-8657-e0c46d100ab0",
   "metadata": {},
   "source": [
    "* Total size:  ![image.png](attachment:50ac7422-85cc-45ef-938c-0feb4d315b1c.png)"
   ]
  },
  {
   "cell_type": "markdown",
   "id": "8917a7aa-5bfb-44b4-a9a4-dcf2fc153161",
   "metadata": {},
   "source": [
    "*build: Multi_stage\\yolo-app*"
   ]
  },
  {
   "cell_type": "code",
   "execution_count": null,
   "id": "b7dc13d7-0ed3-4478-a74c-6ed469a87120",
   "metadata": {},
   "outputs": [],
   "source": []
  },
  {
   "cell_type": "code",
   "execution_count": null,
   "id": "83c868c7-c55c-4504-9256-a8abb4a1381c",
   "metadata": {},
   "outputs": [],
   "source": []
  },
  {
   "cell_type": "code",
   "execution_count": null,
   "id": "163cf41b-cede-4353-a9aa-f6d8e3bf4015",
   "metadata": {},
   "outputs": [],
   "source": []
  },
  {
   "cell_type": "code",
   "execution_count": null,
   "id": "d6ff24e7-6ece-4b52-b280-36dce37a7feb",
   "metadata": {},
   "outputs": [],
   "source": []
  },
  {
   "cell_type": "code",
   "execution_count": null,
   "id": "27f0deca-f01f-4ced-b52d-97e9fd89db5f",
   "metadata": {},
   "outputs": [],
   "source": []
  },
  {
   "cell_type": "code",
   "execution_count": null,
   "id": "0d98ccdf-5671-48b7-b6ea-db62912f1db2",
   "metadata": {},
   "outputs": [],
   "source": []
  },
  {
   "cell_type": "code",
   "execution_count": null,
   "id": "170c40cd-ff0f-4ff0-8a9e-b159cf9c68bd",
   "metadata": {},
   "outputs": [],
   "source": []
  },
  {
   "cell_type": "code",
   "execution_count": null,
   "id": "9297759b-bd13-48fc-9f5d-557ae8648f14",
   "metadata": {},
   "outputs": [],
   "source": []
  },
  {
   "cell_type": "code",
   "execution_count": null,
   "id": "4a61b4c9-1093-4353-bd64-65685ab4e8ac",
   "metadata": {},
   "outputs": [],
   "source": []
  }
 ],
 "metadata": {
  "kernelspec": {
   "display_name": "Python 3 (ipykernel)",
   "language": "python",
   "name": "python3"
  },
  "language_info": {
   "codemirror_mode": {
    "name": "ipython",
    "version": 3
   },
   "file_extension": ".py",
   "mimetype": "text/x-python",
   "name": "python",
   "nbconvert_exporter": "python",
   "pygments_lexer": "ipython3",
   "version": "3.12.7"
  }
 },
 "nbformat": 4,
 "nbformat_minor": 5
}
